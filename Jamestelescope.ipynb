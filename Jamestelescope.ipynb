{
 "cells": [
  {
   "cell_type": "code",
   "execution_count": 1,
   "id": "f427e23c",
   "metadata": {},
   "outputs": [],
   "source": [
    "import os\n",
    "from astroquery.mast import Observations\n",
    "from jdaviz import Imviz"
   ]
  },
  {
   "cell_type": "code",
   "execution_count": 2,
   "id": "87c67879",
   "metadata": {},
   "outputs": [
    {
     "name": "stdout",
     "output_type": "stream",
     "text": [
      "INFO: If you do not have an API token already, visit the following link to create one: https://auth.mast.stsci.edu/token?suggested_name=Astroquery&suggested_scope=mast:exclusive_access [astroquery.mast.auth]\n",
      "Enter MAST API Token: ········\n",
      "INFO: MAST API token accepted, welcome Jorge Melchor [astroquery.mast.auth]\n",
      "Downloading URL https://mast.stsci.edu/api/v0.1/Download/file?uri=mast:jwst/product/jw02731-o002_t017_miri_f770w_i2d.fits to /Users/jorgemelchor/miniconda3/envs/unidata/MAST_2023-08-20T1842/jw02731-o002_t017_miri_f770w_i2d.fits ... [Done]\n"
     ]
    }
   ],
   "source": [
    "# get authentication token and login\n",
    "auth_token = os.environ.get('MAST_API_TOKEN', None)\n",
    "Observations.login(auth_token)\n",
    "\n",
    "# download the data file\n",
    "uri = f\"mast:jwst/product/jw02731-o002_t017_miri_f770w_i2d.fits\"\n",
    "result = Observations.download_file(uri, base_url='https://mast.stsci.edu/api/v0.1/Download/file')\n",
    "if result[0] == 'ERROR':\n",
    "    raise RuntimeError('Error retrieving file: ' + result[1])"
   ]
  },
  {
   "cell_type": "code",
   "execution_count": 3,
   "id": "9bb1f328",
   "metadata": {},
   "outputs": [],
   "source": [
    "# construct the local filepath to load into Jdaviz\n",
    "local = os.path.join(os.path.abspath('.'), uri.rsplit('/', 1)[-1])\n"
   ]
  },
  {
   "cell_type": "code",
   "execution_count": 4,
   "id": "693a2f3a",
   "metadata": {},
   "outputs": [
    {
     "name": "stderr",
     "output_type": "stream",
     "text": [
      "/Library/Frameworks/Python.framework/Versions/3.9/lib/python3.9/site-packages/setuptools/distutils_patch.py:25: UserWarning: Distutils was imported before Setuptools. This usage is discouraged and may exhibit undesirable behaviors or errors. Please use Setuptools' objects directly or at least import Setuptools first.\n",
      "  warnings.warn(\n",
      "/Library/Frameworks/Python.framework/Versions/3.9/lib/python3.9/site-packages/glue/viewers/common/qt/__init__.py:3: GlueDeprecationWarning: Importing from glue.viewers.common.qt is deprecated, use glue_qt.viewers.common instead\n",
      "  warnings.warn('Importing from glue.viewers.common.qt is deprecated, use glue_qt.viewers.common instead', GlueDeprecationWarning)\n"
     ]
    },
    {
     "data": {
      "application/vnd.jupyter.widget-view+json": {
       "model_id": "66cb96ae8c994bf1ae37b66f6e399dad",
       "version_major": 2,
       "version_minor": 0
      },
      "text/plain": [
       "Application(config='imviz', events=['call_viewer_method', 'close_snackbar_message', 'data_item_remove', 'data_…"
      ]
     },
     "metadata": {},
     "output_type": "display_data"
    }
   ],
   "source": [
    "# load the data file into the helper jdaviz class and display the application\n",
    "h = Imviz()\n",
    "h.load_data(local)\n",
    "h.show()"
   ]
  }
 ],
 "metadata": {
  "kernelspec": {
   "display_name": "Python 3 (ipykernel)",
   "language": "python",
   "name": "python3"
  },
  "language_info": {
   "codemirror_mode": {
    "name": "ipython",
    "version": 3
   },
   "file_extension": ".py",
   "mimetype": "text/x-python",
   "name": "python",
   "nbconvert_exporter": "python",
   "pygments_lexer": "ipython3",
   "version": "3.9.2"
  }
 },
 "nbformat": 4,
 "nbformat_minor": 5
}
